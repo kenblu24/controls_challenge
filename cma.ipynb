{
 "cells": [
  {
   "cell_type": "code",
   "execution_count": 1,
   "metadata": {},
   "outputs": [],
   "source": [
    "import numpy as np\n",
    "import onnxruntime as ort\n",
    "import os\n",
    "import pandas as pd\n",
    "import matplotlib.pyplot as plt\n",
    "import seaborn as sns\n",
    "\n",
    "from io import BytesIO\n",
    "from collections import namedtuple\n",
    "from functools import partial\n",
    "from hashlib import md5\n",
    "from pathlib import Path\n",
    "from typing import List, Union, Tuple, Dict\n",
    "from tqdm.contrib.concurrent import process_map\n",
    "\n",
    "from controllers import BaseController\n",
    "from controllers import pid\n",
    "from tinyphysics import TinyPhysicsModel, TinyPhysicsSimulator\n",
    "\n",
    "import random\n",
    "\n",
    "MODEL_PATH = 'models/tinyphysics.onnx'\n",
    "DATA_PATH = 'data'\n"
   ]
  },
  {
   "cell_type": "code",
   "execution_count": 2,
   "metadata": {},
   "outputs": [],
   "source": [
    "def run_rollout(data_path, controller, model_path, debug=False):\n",
    "    tinyphysicsmodel = TinyPhysicsModel(model_path, debug=debug)\n",
    "    sim = TinyPhysicsSimulator(tinyphysicsmodel, str(data_path), controller=controller, debug=debug)\n",
    "    return sim.rollout(), sim.target_lataccel_history, sim.current_lataccel_history\n"
   ]
  },
  {
   "cell_type": "code",
   "execution_count": 19,
   "metadata": {},
   "outputs": [
    {
     "name": "stdout",
     "output_type": "stream",
     "text": [
      "data\\00000.csv\n"
     ]
    },
    {
     "data": {
      "text/plain": [
       "{'lataccel_cost': 1.503401287277064,\n",
       " 'jerk_cost': 31.39390938185053,\n",
       " 'total_cost': 106.56397374570373}"
      ]
     },
     "execution_count": 19,
     "metadata": {},
     "output_type": "execute_result"
    }
   ],
   "source": [
    "genome = (0.12, 0.115, 0.005, 0.005)\n",
    "def run_genome(genome, seg, model_path=MODEL_PATH, data_dir=DATA_PATH,):\n",
    "    global controller\n",
    "    data_dir = Path(data_dir)\n",
    "    controller = pid.PID4Controller(*genome)\n",
    "    file = data_dir / f\"{seg:05d}.csv\"\n",
    "    print(file)\n",
    "    return run_rollout(file, controller, model_path, debug=False)[0]\n",
    "\n",
    "\n",
    "run_genome(genome, 0)"
   ]
  },
  {
   "cell_type": "code",
   "execution_count": 4,
   "metadata": {},
   "outputs": [],
   "source": [
    "def runs_with_gains(genome, segs, model_path=MODEL_PATH, data_path=DATA_PATH):\n",
    "    data_path = Path(data_path)\n",
    "    controller = pid.PID4Controller(*genome)\n",
    "    # run_rollout_partial = partial(run_rollout, controller_type=controller, model_path=model_path, debug=False)\n",
    "    files = [data_path / f\"{seg:05d}.csv\" for seg in segs]\n",
    "    # [print(str(file)) for file in files]\n",
    "    # for f in files:\n",
    "    #     print(f, f.is_file())\n",
    "    # assert all([f.is_file() for f in files])\n",
    "    # files = sorted(data_path.iterdir())[:args.num_segs]\n",
    "    results = process_map(run_rollout_partial, files, max_workers=20)#, chunksize=10)\n",
    "    costs = [result[0] for result in results]\n",
    "    return costs"
   ]
  },
  {
   "cell_type": "code",
   "execution_count": 5,
   "metadata": {},
   "outputs": [
    {
     "ename": "TypeError",
     "evalue": "unsupported format string passed to list.__format__",
     "output_type": "error",
     "traceback": [
      "\u001b[1;31m---------------------------------------------------------------------------\u001b[0m",
      "\u001b[1;31mTypeError\u001b[0m                                 Traceback (most recent call last)",
      "Cell \u001b[1;32mIn[5], line 3\u001b[0m\n\u001b[0;32m      1\u001b[0m files_to_test \u001b[38;5;241m=\u001b[39m [random\u001b[38;5;241m.\u001b[39mrandrange(\u001b[38;5;241m5000\u001b[39m, \u001b[38;5;241m20000\u001b[39m \u001b[38;5;241m-\u001b[39m \u001b[38;5;241m1\u001b[39m) \u001b[38;5;28;01mfor\u001b[39;00m _ \u001b[38;5;129;01min\u001b[39;00m \u001b[38;5;28mrange\u001b[39m(\u001b[38;5;241m10\u001b[39m)]\n\u001b[0;32m      2\u001b[0m genome \u001b[38;5;241m=\u001b[39m (\u001b[38;5;241m0.12\u001b[39m, \u001b[38;5;241m0.115\u001b[39m, \u001b[38;5;241m0.005\u001b[39m, \u001b[38;5;241m-\u001b[39m\u001b[38;5;241m0.0008\u001b[39m)\n\u001b[1;32m----> 3\u001b[0m \u001b[43mrun_with_gains\u001b[49m\u001b[43m(\u001b[49m\u001b[43mgenome\u001b[49m\u001b[43m,\u001b[49m\u001b[43m \u001b[49m\u001b[43mfiles_to_test\u001b[49m\u001b[43m)\u001b[49m\n",
      "Cell \u001b[1;32mIn[3], line 5\u001b[0m, in \u001b[0;36mrun_with_gains\u001b[1;34m(genome, seg, model_path, data_path)\u001b[0m\n\u001b[0;32m      3\u001b[0m data_path \u001b[38;5;241m=\u001b[39m Path(data_path)\n\u001b[0;32m      4\u001b[0m controller \u001b[38;5;241m=\u001b[39m pid\u001b[38;5;241m.\u001b[39mPIDDController()\n\u001b[1;32m----> 5\u001b[0m file \u001b[38;5;241m=\u001b[39m data_path \u001b[38;5;241m/\u001b[39m \u001b[38;5;124mf\u001b[39m\u001b[38;5;124m\"\u001b[39m\u001b[38;5;132;43;01m{\u001b[39;49;00m\u001b[43mseg\u001b[49m\u001b[38;5;132;43;01m:\u001b[39;49;00m\u001b[38;5;124;43m05d\u001b[39;49m\u001b[38;5;132;43;01m}\u001b[39;49;00m\u001b[38;5;124m.csv\u001b[39m\u001b[38;5;124m\"\u001b[39m\n\u001b[0;32m      6\u001b[0m \u001b[38;5;28mprint\u001b[39m(file)\n\u001b[0;32m      7\u001b[0m \u001b[38;5;28;01mreturn\u001b[39;00m run_rollout(file, controller, model_path, debug\u001b[38;5;241m=\u001b[39m\u001b[38;5;28;01mFalse\u001b[39;00m)[\u001b[38;5;241m0\u001b[39m]\n",
      "\u001b[1;31mTypeError\u001b[0m: unsupported format string passed to list.__format__"
     ]
    }
   ],
   "source": [
    "files_to_test = [random.randrange(5000, 20000 - 1) for _ in range(10)]\n",
    "genome = (0.12, 0.115, 0.005, -0.0008)\n",
    "run_with_gains(genome, files_to_test)"
   ]
  },
  {
   "cell_type": "code",
   "execution_count": null,
   "metadata": {},
   "outputs": [],
   "source": []
  }
 ],
 "metadata": {
  "kernelspec": {
   "display_name": "comma",
   "language": "python",
   "name": "python3"
  },
  "language_info": {
   "codemirror_mode": {
    "name": "ipython",
    "version": 3
   },
   "file_extension": ".py",
   "mimetype": "text/x-python",
   "name": "python",
   "nbconvert_exporter": "python",
   "pygments_lexer": "ipython3",
   "version": "3.12.2"
  }
 },
 "nbformat": 4,
 "nbformat_minor": 2
}
