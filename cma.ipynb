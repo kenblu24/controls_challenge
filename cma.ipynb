{
 "cells": [
  {
   "cell_type": "code",
   "execution_count": 1,
   "metadata": {},
   "outputs": [
    {
     "name": "stderr",
     "output_type": "stream",
     "text": [
      "c:\\Users\\kenbl\\Desktop\\comma\\Lib\\site-packages\\tqdm\\auto.py:21: TqdmWarning: IProgress not found. Please update jupyter and ipywidgets. See https://ipywidgets.readthedocs.io/en/stable/user_install.html\n",
      "  from .autonotebook import tqdm as notebook_tqdm\n"
     ]
    }
   ],
   "source": [
    "import pid_with_genome as prog\n",
    "from CMAES import CMAES, CMAESVarSet\n",
    "import numpy as np\n",
    "import random"
   ]
  },
  {
   "cell_type": "code",
   "execution_count": 2,
   "metadata": {},
   "outputs": [],
   "source": [
    "DECISION_VARS = CMAESVarSet({\n",
    "    \"kp\": [-0.5, 0.5],\n",
    "    \"ki\": [-0.5, 0.5],\n",
    "    \"kd\": [-0.5, 0.5],\n",
    "    \"kdd\": [-0.5, 0.5],\n",
    "})\n",
    "\n",
    "round_vars_to_nearest = None\n",
    "# round_vars_to_nearest = 1 / (int(args.discrete_bins) - 1)"
   ]
  },
  {
   "cell_type": "code",
   "execution_count": 3,
   "metadata": {},
   "outputs": [],
   "source": [
    "rnd = random.Random(42)"
   ]
  },
  {
   "cell_type": "code",
   "execution_count": 4,
   "metadata": {},
   "outputs": [],
   "source": [
    "nsamples = 48\n",
    "def fitness(genome):\n",
    "    files_to_test = [rnd.randrange(0, 20000 - 1) for _ in range(nsamples)]\n",
    "    # genome = (0.12, 0.115, 0.005, -0.0008)\n",
    "    results = prog.test_genome(genome, files_to_test, max_workers=24, tqdm=False)\n",
    "    # print(results)\n",
    "    return np.mean([result['total_cost'] for result in results])"
   ]
  },
  {
   "cell_type": "code",
   "execution_count": 5,
   "metadata": {},
   "outputs": [
    {
     "name": "stdout",
     "output_type": "stream",
     "text": [
      "(10_w,20)-aCMA-ES (mu_w=5.9,w_1=27%) in dimension 4 (seed=1, Sat Aug 24 11:40:47 2024)\n"
     ]
    },
    {
     "name": "stderr",
     "output_type": "stream",
     "text": [
      "100%|██████████| 20/20 [01:32<00:00,  4.63s/it]\n"
     ]
    },
    {
     "ename": "TypeError",
     "evalue": "%d format: a real number is required, not NoneType",
     "output_type": "error",
     "traceback": [
      "\u001b[1;31m---------------------------------------------------------------------------\u001b[0m",
      "\u001b[1;31mTypeError\u001b[0m                                 Traceback (most recent call last)",
      "Cell \u001b[1;32mIn[5], line 13\u001b[0m\n\u001b[0;32m      1\u001b[0m cmaes \u001b[38;5;241m=\u001b[39m CMAES(\n\u001b[0;32m      2\u001b[0m     fitness,\n\u001b[0;32m      3\u001b[0m     dvars\u001b[38;5;241m=\u001b[39mDECISION_VARS,\n\u001b[1;32m   (...)\u001b[0m\n\u001b[0;32m     10\u001b[0m     \u001b[38;5;66;03m# round_to_every=round_vars_to_nearest,\u001b[39;00m\n\u001b[0;32m     11\u001b[0m )\n\u001b[1;32m---> 13\u001b[0m \u001b[43mcmaes\u001b[49m\u001b[38;5;241;43m.\u001b[39;49m\u001b[43mminimize\u001b[49m\u001b[43m(\u001b[49m\u001b[43m)\u001b[49m\n",
      "File \u001b[1;32mc:\\Users\\kenbl\\Desktop\\comma\\controls_challenge\\CMAES.py:95\u001b[0m, in \u001b[0;36mCMAES.minimize\u001b[1;34m(self)\u001b[0m\n\u001b[0;32m     92\u001b[0m     df \u001b[38;5;241m=\u001b[39m pd\u001b[38;5;241m.\u001b[39mDataFrame(\u001b[38;5;28mself\u001b[39m\u001b[38;5;241m.\u001b[39mhistory)\n\u001b[0;32m     93\u001b[0m     df\u001b[38;5;241m.\u001b[39mto_csv(os\u001b[38;5;241m.\u001b[39mpath\u001b[38;5;241m.\u001b[39mjoin(\u001b[38;5;28mself\u001b[39m\u001b[38;5;241m.\u001b[39mexp_path, \u001b[38;5;124m\"\u001b[39m\u001b[38;5;124mgenomes.csv\u001b[39m\u001b[38;5;124m\"\u001b[39m), index\u001b[38;5;241m=\u001b[39m\u001b[38;5;28;01mFalse\u001b[39;00m)\n\u001b[1;32m---> 95\u001b[0m \u001b[43mes\u001b[49m\u001b[38;5;241;43m.\u001b[39;49m\u001b[43mresult_pretty\u001b[49m\u001b[43m(\u001b[49m\u001b[43m)\u001b[49m\n\u001b[0;32m     96\u001b[0m \u001b[38;5;28;01mreturn\u001b[39;00m es\u001b[38;5;241m.\u001b[39mresult, es\n",
      "File \u001b[1;32mc:\\Users\\kenbl\\Desktop\\comma\\Lib\\site-packages\\cma\\evolution_strategy.py:3335\u001b[0m, in \u001b[0;36mCMAEvolutionStrategy.result_pretty\u001b[1;34m(self, number_of_runs, time_str, fbestever)\u001b[0m\n\u001b[0;32m   3331\u001b[0m \u001b[38;5;28;01mfor\u001b[39;00m k, v \u001b[38;5;129;01min\u001b[39;00m \u001b[38;5;28mself\u001b[39m\u001b[38;5;241m.\u001b[39mstop()\u001b[38;5;241m.\u001b[39mitems():\n\u001b[0;32m   3332\u001b[0m     \u001b[38;5;28mprint\u001b[39m(\u001b[38;5;124m'\u001b[39m\u001b[38;5;124mtermination on \u001b[39m\u001b[38;5;132;01m%s\u001b[39;00m\u001b[38;5;124m=\u001b[39m\u001b[38;5;132;01m%s\u001b[39;00m\u001b[38;5;132;01m%s\u001b[39;00m\u001b[38;5;124m'\u001b[39m \u001b[38;5;241m%\u001b[39m (k, \u001b[38;5;28mstr\u001b[39m(v), s \u001b[38;5;241m+\u001b[39m\n\u001b[0;32m   3333\u001b[0m           (\u001b[38;5;124m'\u001b[39m\u001b[38;5;124m (\u001b[39m\u001b[38;5;132;01m%s\u001b[39;00m\u001b[38;5;124m)\u001b[39m\u001b[38;5;124m'\u001b[39m \u001b[38;5;241m%\u001b[39m time_str \u001b[38;5;28;01mif\u001b[39;00m time_str \u001b[38;5;28;01melse\u001b[39;00m \u001b[38;5;124m'\u001b[39m\u001b[38;5;124m'\u001b[39m)))\n\u001b[1;32m-> 3335\u001b[0m \u001b[38;5;28mprint\u001b[39m(\u001b[38;5;124;43m'\u001b[39;49m\u001b[38;5;124;43mfinal/bestever f-value = \u001b[39;49m\u001b[38;5;132;43;01m%e\u001b[39;49;00m\u001b[38;5;124;43m \u001b[39;49m\u001b[38;5;132;43;01m%e\u001b[39;49;00m\u001b[38;5;124;43m after \u001b[39;49m\u001b[38;5;132;43;01m%d\u001b[39;49;00m\u001b[38;5;124;43m/\u001b[39;49m\u001b[38;5;132;43;01m%d\u001b[39;49;00m\u001b[38;5;124;43m evaluations\u001b[39;49m\u001b[38;5;124;43m'\u001b[39;49m\u001b[43m \u001b[49m\u001b[38;5;241;43m%\u001b[39;49m\u001b[43m \u001b[49m\u001b[43m(\u001b[49m\n\u001b[0;32m   3336\u001b[0m \u001b[43m    \u001b[49m\u001b[38;5;28;43mself\u001b[39;49m\u001b[38;5;241;43m.\u001b[39;49m\u001b[43mbest\u001b[49m\u001b[38;5;241;43m.\u001b[39;49m\u001b[43mlast\u001b[49m\u001b[38;5;241;43m.\u001b[39;49m\u001b[43mf\u001b[49m\u001b[43m,\u001b[49m\u001b[43m \u001b[49m\u001b[43mfbestever\u001b[49m\u001b[43m,\u001b[49m\u001b[43m \u001b[49m\u001b[38;5;28;43mself\u001b[39;49m\u001b[38;5;241;43m.\u001b[39;49m\u001b[43mcountevals\u001b[49m\u001b[43m,\u001b[49m\u001b[43m \u001b[49m\u001b[38;5;28;43mself\u001b[39;49m\u001b[38;5;241;43m.\u001b[39;49m\u001b[43mbest\u001b[49m\u001b[38;5;241;43m.\u001b[39;49m\u001b[43mevals\u001b[49m\u001b[43m)\u001b[49m)\n\u001b[0;32m   3337\u001b[0m \u001b[38;5;28;01mif\u001b[39;00m \u001b[38;5;28mself\u001b[39m\u001b[38;5;241m.\u001b[39mN \u001b[38;5;241m<\u001b[39m \u001b[38;5;241m9\u001b[39m:\n\u001b[0;32m   3338\u001b[0m     \u001b[38;5;28mprint\u001b[39m(\u001b[38;5;124m'\u001b[39m\u001b[38;5;124mincumbent solution: \u001b[39m\u001b[38;5;124m'\u001b[39m \u001b[38;5;241m+\u001b[39m \u001b[38;5;28mstr\u001b[39m(\u001b[38;5;28mlist\u001b[39m(\u001b[38;5;28mself\u001b[39m\u001b[38;5;241m.\u001b[39mgp\u001b[38;5;241m.\u001b[39mpheno(\u001b[38;5;28mself\u001b[39m\u001b[38;5;241m.\u001b[39mmean, into_bounds\u001b[38;5;241m=\u001b[39m\u001b[38;5;28mself\u001b[39m\u001b[38;5;241m.\u001b[39mboundary_handler\u001b[38;5;241m.\u001b[39mrepair))))\n",
      "\u001b[1;31mTypeError\u001b[0m: %d format: a real number is required, not NoneType"
     ]
    }
   ],
   "source": [
    "cmaes = CMAES(\n",
    "    fitness,\n",
    "    dvars=DECISION_VARS,\n",
    "    # num_processes=args.processes,\n",
    "    show_each_step=False,\n",
    "    target=0,\n",
    "    # experiment=exp,\n",
    "    max_iters=2000,\n",
    "    pop_size=20,\n",
    "    # round_to_every=round_vars_to_nearest,\n",
    ")\n",
    "\n",
    "cmaes.minimize()"
   ]
  }
 ],
 "metadata": {
  "kernelspec": {
   "display_name": "comma",
   "language": "python",
   "name": "python3"
  },
  "language_info": {
   "codemirror_mode": {
    "name": "ipython",
    "version": 3
   },
   "file_extension": ".py",
   "mimetype": "text/x-python",
   "name": "python",
   "nbconvert_exporter": "python",
   "pygments_lexer": "ipython3",
   "version": "3.12.2"
  }
 },
 "nbformat": 4,
 "nbformat_minor": 2
}
